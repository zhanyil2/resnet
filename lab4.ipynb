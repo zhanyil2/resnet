{
 "cells": [
  {
   "cell_type": "markdown",
   "metadata": {},
   "source": [
    "# Generate your predictions on test data and save the results in required format"
   ]
  },
  {
   "cell_type": "code",
   "execution_count": 2,
   "metadata": {},
   "outputs": [],
   "source": [
    "import torch\n",
    "import torch.nn as nn\n",
    "import torch.nn.functional as F\n",
    "\n",
    "# define the ResNet model\n",
    "class ResNetCIFAR(nn.Module):\n",
    "    def __init__(self, ):\n",
    "        super(ResNetCIFAR, self).__init__()\n",
    "\n",
    "    def forward(self, x):\n",
    "        "
   ]
  },
  {
   "cell_type": "code",
   "execution_count": 3,
   "metadata": {},
   "outputs": [
    {
     "name": "stdout",
     "output_type": "stream",
     "text": [
      "Downloading https://www.dropbox.com/s/mine6hvnxsi3dio/cifar10_test_F22.zip?dl=1 to ./data/cifar10_test_F22.zip\n"
     ]
    },
    {
     "data": {
      "application/vnd.jupyter.widget-view+json": {
       "model_id": "28ee07d3912744ebae2dd9648f6f0f6b",
       "version_major": 2,
       "version_minor": 0
      },
      "text/plain": [
       "HBox(children=(FloatProgress(value=1.0, bar_style='info', max=1.0), HTML(value='')))"
      ]
     },
     "metadata": {},
     "output_type": "display_data"
    },
    {
     "name": "stdout",
     "output_type": "stream",
     "text": [
      "Extracting ./data/cifar10_test_F22.zip to ./data\n",
      "Files already downloaded and verified\n",
      "\n"
     ]
    }
   ],
   "source": [
    "import numpy as np\n",
    "\n",
    "import torch\n",
    "from torch.utils.data import DataLoader\n",
    "from torchvision import transforms\n",
    "from tools.dataset import CIFAR10\n",
    "\n",
    "DATA_ROOT = \"./data\"\n",
    "BATCH_SIZE = 100\n",
    "\n",
    "transform_test = transforms.Compose([\n",
    "    transforms.ToTensor(),\n",
    "    transforms.Normalize((0.4914, 0.4822, 0.4465), (0.2023, 0.1994, 0.2010)),\n",
    "])\n",
    "\n",
    "test_set = CIFAR10(\n",
    "    root=DATA_ROOT, \n",
    "    mode='test', \n",
    "    download=True,\n",
    "    transform=transform_test\n",
    ")\n",
    "\n",
    "# do NOT shuffle your test data loader!!!!!!!!!!!!!!!!\n",
    "# otherwise the order of samples will be messed up\n",
    "# and your test accuracy is likely to drop to random guessing level\n",
    "test_loader = DataLoader(\n",
    "    test_set, batch_size=BATCH_SIZE, shuffle=False, num_workers=1)\n",
    "\n",
    "#########################################################\n",
    "# use your model to generate predictions on test data\n",
    "# and save the results into variable \"results\"\n",
    "# \"results\" should be either a numpy array or a torch tensor with length of 10000\n",
    "\n",
    "# initialize a resnet and load trained weights\n",
    "net = ResNetCIFAR()\n",
    "state_dict = torch.load('./saved_model/resnet.pth') # change the path to your own checkpoint file\n",
    "net.load_state_dict(state_dict)\n",
    "net.cuda()\n",
    "\n",
    "# remember to switch to eval mode whenever you are making inference\n",
    "net.eval()\n",
    "\n",
    "results = []\n",
    "with torch.no_grad():\n",
    "    for x in test_loader:\n",
    "        results.append(\n",
    "            net(x.cuda()).argmax(1)\n",
    "        )\n",
    "\n",
    "# convert results to numpy array\n",
    "results = torch.cat(results).cpu().numpy()\n",
    "assert len(results) == 10000\n",
    "\n",
    "#########################################################\n",
    "with open('predictions.csv', 'w') as fp:\n",
    "    fp.write(\"Id,Label\\n\")\n",
    "    for i in range(len(results)):\n",
    "        fp.write(\"%d,%d\\n\" %(i, results[i]))"
   ]
  },
  {
   "cell_type": "code",
   "execution_count": null,
   "metadata": {},
   "outputs": [],
   "source": []
  }
 ],
 "metadata": {
  "kernelspec": {
   "display_name": "Python 3",
   "language": "python",
   "name": "python3"
  },
  "language_info": {
   "codemirror_mode": {
    "name": "ipython",
    "version": 3
   },
   "file_extension": ".py",
   "mimetype": "text/x-python",
   "name": "python",
   "nbconvert_exporter": "python",
   "pygments_lexer": "ipython3",
   "version": "3.8.3"
  }
 },
 "nbformat": 4,
 "nbformat_minor": 4
}
